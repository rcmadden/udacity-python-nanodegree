{
  "nbformat": 4,
  "nbformat_minor": 0,
  "metadata": {
    "colab": {
      "name": "exercises-representing-data.ipynb",
      "provenance": [],
      "collapsed_sections": [],
      "authorship_tag": "ABX9TyMWmpL1eVV6cqFeRi6fjMB4",
      "include_colab_link": true
    },
    "kernelspec": {
      "name": "python3",
      "display_name": "Python 3"
    },
    "language_info": {
      "name": "python"
    }
  },
  "cells": [
    {
      "cell_type": "markdown",
      "metadata": {
        "id": "view-in-github",
        "colab_type": "text"
      },
      "source": [
        "<a href=\"https://colab.research.google.com/github/rcmadden/udacity-python-nanodegree/blob/main/exercises_representing_data.ipynb\" target=\"_parent\"><img src=\"https://colab.research.google.com/assets/colab-badge.svg\" alt=\"Open In Colab\"/></a>"
      ]
    },
    {
      "cell_type": "markdown",
      "source": [
        "# Representing Data\n",
        "## Sequence Types \n",
        "### Make Palendrome 2:15"
      ],
      "metadata": {
        "id": "xb02lbzD1RUR"
      }
    },
    {
      "cell_type": "code",
      "source": [
        "# Starter Code\n",
        "# Manipulating Strings\n",
        "def make_palindrome(s):\n",
        "    \"\"\"Create a palindrome with the given string as a prefix.\n",
        "    \n",
        "    A palindrome is text that reads the same forwards and backwards.\n",
        "    \n",
        "    :param s: A string to form the prefix of a new palindrome.\n",
        "    \"\"\"\n",
        "    return s"
      ],
      "metadata": {
        "id": "eW-8at0214TT"
      },
      "execution_count": null,
      "outputs": []
    },
    {
      "cell_type": "code",
      "source": [
        "# my solution: slicing\n",
        "def make_palindrome(s):\n",
        "    s = s.lower()\n",
        "    s = s + s[::-1]\n",
        "    return s\n",
        "\n",
        "make_palindrome(input('Enter a string: '))"
      ],
      "metadata": {
        "colab": {
          "base_uri": "https://localhost:8080/",
          "height": 54
        },
        "id": "LSQ57NnfYQmA",
        "outputId": "03295c0e-ac52-4e78-feda-c52516090c0d"
      },
      "execution_count": null,
      "outputs": [
        {
          "name": "stdout",
          "output_type": "stream",
          "text": [
            "Enter a string: tops\n"
          ]
        },
        {
          "output_type": "execute_result",
          "data": {
            "application/vnd.google.colaboratory.intrinsic+json": {
              "type": "string"
            },
            "text/plain": [
              "'topsspot'"
            ]
          },
          "metadata": {},
          "execution_count": 16
        }
      ]
    },
    {
      "cell_type": "code",
      "source": [
        "# my solution using a loop\n",
        "def make_palindrome(s):\n",
        "    # for each letter in the string \n",
        "    stringLength = len(s)\n",
        "    reverseString = ''\n",
        "    for i in range(stringLength):\n",
        "      # add letter to new string from last letter to first\n",
        "      reverseString+=s[(stringLength-1)-i]\n",
        "    s = s + reverseString\n",
        "    return s\n",
        "\n",
        "make_palindrome(input('Enter a string: '))"
      ],
      "metadata": {
        "id": "v2Jpfaplbb0N",
        "colab": {
          "base_uri": "https://localhost:8080/",
          "height": 54
        },
        "outputId": "3d49b90a-2d45-43a8-96e3-dcf92720ca7e"
      },
      "execution_count": null,
      "outputs": [
        {
          "name": "stdout",
          "output_type": "stream",
          "text": [
            "Enter a string: same\n"
          ]
        },
        {
          "output_type": "execute_result",
          "data": {
            "application/vnd.google.colaboratory.intrinsic+json": {
              "type": "string"
            },
            "text/plain": [
              "'sameemas'"
            ]
          },
          "metadata": {},
          "execution_count": 1
        }
      ]
    },
    {
      "cell_type": "code",
      "source": [
        "def is_palendrome(s):\n",
        "  \"\"\" Check if a given string is a palendrome\n",
        "      \n",
        "      :param s: A string to check.\n",
        "      \n",
        "      \"\"\"\n",
        "  s = s.lower()    \n",
        "  if (s == s[::-1]):\n",
        "    return f'{s} IS a palendorme'\n",
        "  else:\n",
        "    return f'{s} is NOT a palendrome'\n",
        "\n",
        "is_palendrome(input('Enter a string: '))"
      ],
      "metadata": {
        "colab": {
          "base_uri": "https://localhost:8080/",
          "height": 54
        },
        "id": "ZeZ3JFaZYrQ1",
        "outputId": "646f6f76-dd8e-4e0b-e8eb-1f94965af579"
      },
      "execution_count": null,
      "outputs": [
        {
          "name": "stdout",
          "output_type": "stream",
          "text": [
            "Enter a string: jay\n"
          ]
        },
        {
          "output_type": "execute_result",
          "data": {
            "application/vnd.google.colaboratory.intrinsic+json": {
              "type": "string"
            },
            "text/plain": [
              "'jay is NOT a palendrome'"
            ]
          },
          "metadata": {},
          "execution_count": 15
        }
      ]
    },
    {
      "cell_type": "markdown",
      "source": [
        "### Pascals Triangle"
      ],
      "metadata": {
        "id": "m8khB7BjRkwy"
      }
    },
    {
      "cell_type": "code",
      "source": [
        "# Starter Code\n",
        "# Manipulating Lists and Tuples\n",
        "# Write a function to produce the next layer of Pascal's triangle\n",
        "# Each layer is one larger than the previous layer, and each element in\n",
        "# the new layer is the sum of the two elements above it in the previous\n",
        "# layer. For example, `(1, 3, 3, 1) -> (1, 4, 6, 4, 1)`.\n",
        "#\n",
        "# Hint: What does the expression `zip(row + (0,), (0,) + row)` produce?\n",
        "\n",
        "def add_layer(triangle):\n",
        "    # Add a layer to Pascal's triangle.\n",
        "    # Each layer should be a tuple.\n",
        "    pass\n",
        "    \n",
        "    \n",
        "pascals_triangle = [\n",
        "    (1,),\n",
        "    (1, 1),\n",
        "    (1, 2, 1),\n",
        "    (1, 3, 3, 1),\n",
        "]\n",
        "\n",
        "# Add a few layers, just to check.\n",
        "for _ in range(5):\n",
        "    add_layer(pascals_triangle)"
      ],
      "metadata": {
        "id": "QBGQwfYcibrf"
      },
      "execution_count": null,
      "outputs": []
    },
    {
      "cell_type": "markdown",
      "source": [
        "### Finding Anagrams 2:21"
      ],
      "metadata": {
        "id": "KWnzsygi1rVb"
      }
    },
    {
      "cell_type": "markdown",
      "source": [
        "Key Insight: All words in an anagram family have the same collection of letters. Therefore, the sorted set of letters can be used as key  - a shared characteristic - to identify all words that are in an anagram family.\n",
        "\n",
        "Given Algorithm\n",
        "1. create a sorted collection of letters to be used as a key that is the same among words in the same anagram family\n",
        "2. proceed word by work in the word bank building a dictionary mapping the sorted letters(keys) to collections of their anagrams (values)\n",
        "3. use the sorted reperesentation of the given letters as a key to lookup matching anagrams in the dictionary\n",
        "4. if there is no matching value return an empty collection\n",
        "\n",
        "NOTE: There are several valid algorithms to produce anagrams for a given collection of letters. They vary in implementation complexity and performance.\n",
        "\n",
        "Example:\n",
        "using english_words_small list below.\n",
        "\n",
        "First, we'll build our lookup dictionary word by word. For each word, we'll add it as an element to a collection. When we're done, we'll have a dictionary that looks like:"
      ],
      "metadata": {
        "id": "bmNT3vM_kMV9"
      }
    },
    {
      "cell_type": "code",
      "source": [
        "{\n",
        "    \"enop\": {\"open\", \"peon\", \"nope\"},\n",
        "    \"enost\": {\"stone\", \"notes\", \"onset\", \"tones\"},\n",
        "    \"ceno\": {\"cone\"},\n",
        "    \"opst\": {\"pots\", \"post\", \"stop\", \"opts\", \"tops\"}\n",
        "}"
      ],
      "metadata": {
        "id": "S8ChaAxunp4z"
      },
      "execution_count": null,
      "outputs": []
    },
    {
      "cell_type": "code",
      "execution_count": null,
      "metadata": {
        "id": "vRpyQHpFkHOO"
      },
      "outputs": [],
      "source": [
        "english_words_small = [\"open\",\n",
        "\"peon\",\n",
        "\"nope\",\n",
        "\"stone\",\n",
        "\"notes\",\n",
        "\"onset\",\n",
        "\"tones\",\n",
        "\"cone\",\n",
        "\"pots\",\n",
        "\"post\",\n",
        "\"stop\",\n",
        "\"opts\",\n",
        "\"tops\"]"
      ]
    },
    {
      "cell_type": "markdown",
      "source": [
        "Next, we'll use this dictionary to lookup the anagrams of the canonical representation of the letters we've been given. Suppose that our letters are \"psto\", whose canonical representation is \"opst\". Our lookup dictionary can directly tell us the anagrams of \"psto\" that are in the word bank - in this case, \"pots\", \"post\", \"stop\", \"opts\", and \"tops\".\n",
        "\n",
        "Concretely, you'll implement the function:\n"
      ],
      "metadata": {
        "id": "0HnTw01Bn6jn"
      }
    },
    {
      "cell_type": "code",
      "source": [
        "def find_anagrams(letters, words):\n",
        "    ..."
      ],
      "metadata": {
        "id": "SoPQ4r4I0T0-"
      },
      "execution_count": null,
      "outputs": []
    },
    {
      "cell_type": "markdown",
      "source": [
        "The letters parameter is a string containing the letters that will be anagrammed. The words parameter is a set containing English words comprised of only lowercase alphabetic characters.\n",
        "\n",
        "Your function must return a collection of anagrams of the given letters.\n",
        "\n",
        "For example:\n"
      ],
      "metadata": {
        "id": "ZUAAfIuH0gmx"
      }
    },
    {
      "cell_type": "code",
      "source": [
        "find_anagrams(\"arm\", {\"mar\", \"mat\", \"ram\"})\n",
        "{\"mar\", \"ram\"}"
      ],
      "metadata": {
        "id": "fBUV7mgc0lk7"
      },
      "execution_count": null,
      "outputs": []
    },
    {
      "cell_type": "code",
      "source": [
        "# Starter Code\n",
        "# anagram.py\n",
        "from wordsets import english_words, english_words_small\n",
        "\n",
        "\n",
        "def find_anagrams(letters, words):\n",
        "    \"\"\"Find a collection of anagrams of given letters from a given word bank.\n",
        "\n",
        "    :param letters: The letters from which to form anagrams.\n",
        "    :param words: A set of lowercase, alphabetic English words in a word bank.\n",
        "    :return: A set of anagrams of the given letters found in the word bank.\n",
        "    \"\"\"\n",
        "    #### ADD YOUR CODE BELOW ####\n",
        "\n",
        "\n",
        "    #### ADD YOUR CODE ABOVE ####\n",
        "\n",
        "\n",
        "if __name__ == '__main__':\n",
        "    while True:\n",
        "        letters = input(\"What letters would you like to find the anagram of? \").lower().strip()\n",
        "        for anagram in find_anagrams(letters, english_words_small):\n",
        "            print(anagram)"
      ],
      "metadata": {
        "id": "M34fcnra7pi1"
      },
      "execution_count": null,
      "outputs": []
    },
    {
      "cell_type": "code",
      "source": [
        "# wordsets.py\n",
        "\n",
        "# Build a set of small words from an explicit tuple of words.\n",
        "english_words_small = set((\n",
        "    \"open\",\n",
        "    \"peon\",\n",
        "    \"nope\",\n",
        "    \"stone\",\n",
        "    \"notes\",\n",
        "    \"onset\",\n",
        "    \"tones\",\n",
        "    \"cone\",\n",
        "    \"pots\",\n",
        "    \"post\",\n",
        "    \"stop\",\n",
        "    \"opts\",\n",
        "    \"tops\",\n",
        "))\n",
        "\n",
        "\n",
        "def load_words_from_filename(filename):\n",
        "    \"\"\"Load a set of words from a newline-separated file.\"\"\"\n",
        "    with open(filename) as infile:\n",
        "        return set(line.strip().lower() for line in infile)\n",
        "\n",
        "\n",
        "english_words = load_words_from_filename(\"words.txt\")\n"
      ],
      "metadata": {
        "id": "qV3a55FR7w2q"
      },
      "execution_count": null,
      "outputs": []
    },
    {
      "cell_type": "markdown",
      "source": [
        "#### My Solution"
      ],
      "metadata": {
        "id": "sGEiTKS-rfZZ"
      }
    },
    {
      "cell_type": "code",
      "source": [
        "# create an anagram_dictionary\n",
        "# for each word sorted in alphabetical order\n",
        "# if it exists as a key in the anagram_dictionary\n",
        "  # add the word to the value list of that key\n",
        "# else assign the sorted word as the key and the word as it's value list (why does the example use a collection instead of a list?)"
      ],
      "metadata": {
        "id": "G0nu5eRiolct"
      },
      "execution_count": null,
      "outputs": []
    },
    {
      "cell_type": "code",
      "source": [
        "# create and anagram_dictionary\n",
        "# for each word sorted in alphabetical order\n",
        "# if it exists as a key in the anagram_dictionary\n",
        "  # add the word to the value list of the matching key\n",
        "# else add the sorted word as the key and the word to it's value list"
      ],
      "metadata": {
        "id": "AhjS2Dy4rY0C"
      },
      "execution_count": null,
      "outputs": []
    },
    {
      "cell_type": "markdown",
      "source": [
        "## Sets & Mappings 2:15\n",
        "\n",
        "Dictionaries map keys to values – so that you can answer, \"what value is associated with this given key.\" What if you want to find out which keys are associated to a given value?\n",
        "\n",
        "For this purpose, write a function called swap_keys_and_values\n",
        "\n",
        "Be careful, because a given value might be mapped to by more than one key! So, this function should return a mapping from what-used-to-be-values to a set of what-used-to-be-keys. Concretely,\n"
      ],
      "metadata": {
        "id": "n3SpipeHKDum"
      }
    },
    {
      "cell_type": "code",
      "source": [
        "swap_keys_and_values({'a': 1, 'b': 2})  # => {2: {'b'}, 1: {'a'}}\n",
        "swap_keys_and_values({'a': 1, 'b': 2, 'c': 1})  # => {2: {'b'}, 1: {'a', 'c'}}\n"
      ],
      "metadata": {
        "id": "ZxOD1Y1PLM28"
      },
      "execution_count": null,
      "outputs": []
    },
    {
      "cell_type": "code",
      "source": [
        "\"\"\"Check whether a word is 'efficient' - if each letter can be drawn by a pencil without lifting.\"\"\"\n",
        "EFFICIENT_LETTERS = set('BCDGIJLMNOPSUVWZ')\n",
        "\n",
        "def is_efficient(letters):\n",
        "  print(letters)\n",
        "  if set(letters).issubset(EFFICIENT_LETTERS):\n",
        "     print(letters, ' are efficient')\n",
        "     return True\n",
        "  else:\n",
        "    print(letters, ' are not efficient.')\n",
        "    return False\n",
        "\n",
        "is_efficient('BCD')"
      ],
      "metadata": {
        "id": "qQTkujrhKA4n",
        "outputId": "90e6cde8-b58c-4811-b63f-0c4923c095ef",
        "colab": {
          "base_uri": "https://localhost:8080/"
        }
      },
      "execution_count": 15,
      "outputs": [
        {
          "output_type": "stream",
          "name": "stdout",
          "text": [
            "BCD\n",
            "BCD  are efficient\n"
          ]
        },
        {
          "output_type": "execute_result",
          "data": {
            "text/plain": [
              "True"
            ]
          },
          "metadata": {},
          "execution_count": 15
        }
      ]
    },
    {
      "cell_type": "code",
      "source": [
        "\"\"\"Swap the keys and values in a mapping.\"\"\"\n",
        "swap = {}\n",
        "def swap_keys_and_values(d):\n",
        "  for k, v in d:\n",
        "    if (v in swap):\n",
        "      swap(v).append(k)\n",
        "    else:\n",
        "      swap(v) = k  \n",
        "  return swap\n",
        "\n",
        "swap_keys_and_values({'a': 1, 'b': 2, 'c': 1}) # => {2: {'b'}, 1: {'a', 'c'}}"
      ],
      "metadata": {
        "id": "9kFt8HiofycU",
        "outputId": "5b96d612-2908-45d7-e316-f90278aa4f33",
        "colab": {
          "base_uri": "https://localhost:8080/",
          "height": 134
        }
      },
      "execution_count": 16,
      "outputs": [
        {
          "output_type": "error",
          "ename": "SyntaxError",
          "evalue": "ignored",
          "traceback": [
            "\u001b[0;36m  File \u001b[0;32m\"<ipython-input-16-1f6f0b9bb3fd>\"\u001b[0;36m, line \u001b[0;32m8\u001b[0m\n\u001b[0;31m    swap(v) = k\u001b[0m\n\u001b[0m    ^\u001b[0m\n\u001b[0;31mSyntaxError\u001b[0m\u001b[0;31m:\u001b[0m can't assign to function call\n"
          ]
        }
      ]
    },
    {
      "cell_type": "code",
      "source": [
        "d = {'a': 1, 'b': 2, 'c': 1}"
      ],
      "metadata": {
        "id": "RjKrgh3AhFI0"
      },
      "execution_count": 17,
      "outputs": []
    },
    {
      "cell_type": "code",
      "source": [
        "c = {}"
      ],
      "metadata": {
        "id": "b44uM1SehIA7",
        "outputId": "43a538d6-96d2-4290-889c-de28b6c29006",
        "colab": {
          "base_uri": "https://localhost:8080/",
          "height": 134
        }
      },
      "execution_count": 20,
      "outputs": [
        {
          "output_type": "error",
          "ename": "SyntaxError",
          "evalue": "ignored",
          "traceback": [
            "\u001b[0;36m  File \u001b[0;32m\"<ipython-input-20-08b7afddc987>\"\u001b[0;36m, line \u001b[0;32m2\u001b[0m\n\u001b[0;31m    c{'a'} = 2\u001b[0m\n\u001b[0m     ^\u001b[0m\n\u001b[0;31mSyntaxError\u001b[0m\u001b[0;31m:\u001b[0m invalid syntax\n"
          ]
        }
      ]
    },
    {
      "cell_type": "markdown",
      "source": [
        "## Dictionary Slicing\n",
        "\n",
        "Return n values (un-ordered)"
      ],
      "metadata": {
        "id": "fOjcLd0qPh5J"
      }
    },
    {
      "cell_type": "code",
      "source": [
        "airlines = {'N/A': 'Private flight', 'GNL': '135 Airways', 'RNX': '1Time Airline', 'WYT': '2 Sqn No 1 Elementar...ing School', 'TFU': '213 Flight Unit', 'CHD': '223 Flight Unit State Airline', 'TTF': '224th Flight Unit', 'TWF': '247 Jet Ltd', 'SEC': '3D Aviation', 'MLA': '40-Mile Air'}\n",
        "list(airlines.items())[:5]"
      ],
      "metadata": {
        "colab": {
          "base_uri": "https://localhost:8080/"
        },
        "id": "2M5jUB0uPoRs",
        "outputId": "c23e24cf-5cfd-473b-d34b-9b2cf1a1b926"
      },
      "execution_count": null,
      "outputs": [
        {
          "output_type": "execute_result",
          "data": {
            "text/plain": [
              "[('N/A', 'Private flight'),\n",
              " ('GNL', '135 Airways'),\n",
              " ('RNX', '1Time Airline'),\n",
              " ('WYT', '2 Sqn No 1 Elementar...ing School'),\n",
              " ('TFU', '213 Flight Unit')]"
            ]
          },
          "metadata": {},
          "execution_count": 1
        }
      ]
    },
    {
      "cell_type": "code",
      "source": [
        "{k: airlines[k] for k in list(airlines)[:5]}"
      ],
      "metadata": {
        "colab": {
          "base_uri": "https://localhost:8080/"
        },
        "outputId": "2c699797-e14d-4a8d-b008-31f301a88e10",
        "id": "TG8_wdiGPv3i"
      },
      "execution_count": null,
      "outputs": [
        {
          "output_type": "execute_result",
          "data": {
            "text/plain": [
              "{'GNL': '135 Airways',\n",
              " 'N/A': 'Private flight',\n",
              " 'RNX': '1Time Airline',\n",
              " 'TFU': '213 Flight Unit',\n",
              " 'WYT': '2 Sqn No 1 Elementar...ing School'}"
            ]
          },
          "metadata": {},
          "execution_count": 2
        }
      ]
    }
  ]
}